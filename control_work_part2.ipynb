{
 "cells": [
  {
   "cell_type": "markdown",
   "metadata": {},
   "source": [
    "### Кейс №1\n",
    "1) Ваш продукт - это школа английского языка [Лендинг для языковой школы](http://english22.tilda.ws/). Проанализируйте\n",
    "конкурентов на рынке (SkyEng, Lingvoleo и прочие) и сформулируйте гипотезу по\n",
    "улучшению первого экрана лендинг. \n",
    "---"
   ]
  },
  {
   "cell_type": "markdown",
   "metadata": {},
   "source": [
    "Изучив лендинговую страницу и страницы конкурентов, предлагаю следующие гипотезы для улучшения:\n",
    "\n",
    "1. Если добавить основное меню в header для всех пользователей, то уменьшиться количество отказов на 1%, потому что пользователям будет проще найти необходимую информацию по услугам\n",
    "2. Если изменить надпись \"Оттачивайте английский с лучшими преподавателями и носителями языка – это комфортно и доступно.\" на \"Обучение английскому с нуля до свободного общения на различные темы\", то увеличится конверсия в покупку на 2%, так как клиент понимает предоставляемые услуги.\n",
    "3. Изменить цветовую тему основной страницы на актуальный \"нежный персиковый\" позволить снизить количество отказов на 2%, потому что цвет будет соответствовать тому на что лди обращают внимание и какие ценности для них важны по [исследованию института цвета Pantone](https://www.pantone.com/color-of-the-year/2024)\n",
    "4. Если мы добавим логотип школы, то это позволит повысить удержание пользователя на 1%, потому что пользователь будет запоминать логотип и название школы "
   ]
  },
  {
   "cell_type": "markdown",
   "metadata": {},
   "source": [
    "### Кейс №2\n",
    "Подведите результаты эксперимента в экселе по следующим данным: [ab_stats.csv - Google Диск](https://drive.google.com/file/d/1XYk_NrBvrpx9IEA-_0gSndcINuoGudW6/view):\n",
    "Стат значимо ли отличается ARPPU в двух группах ? Какие рекомендации дадите менеджеру?"
   ]
  },
  {
   "cell_type": "code",
   "execution_count": 56,
   "metadata": {},
   "outputs": [],
   "source": [
    "import pandas as pd\n",
    "import seaborn as sns\n",
    "import matplotlib.pyplot as plt\n",
    "from scipy.stats import mannwhitneyu\n",
    "from scipy.stats import chi2_contingency, mannwhitneyu, ttest_ind\n",
    "from statsmodels.stats.power import TTestIndPower\n",
    "import numpy as np\n",
    "import warnings\n",
    "\n",
    "warnings.filterwarnings('ignore')"
   ]
  },
  {
   "cell_type": "code",
   "execution_count": 2,
   "metadata": {},
   "outputs": [
    {
     "data": {
      "text/html": [
       "<div>\n",
       "<style scoped>\n",
       "    .dataframe tbody tr th:only-of-type {\n",
       "        vertical-align: middle;\n",
       "    }\n",
       "\n",
       "    .dataframe tbody tr th {\n",
       "        vertical-align: top;\n",
       "    }\n",
       "\n",
       "    .dataframe thead th {\n",
       "        text-align: right;\n",
       "    }\n",
       "</style>\n",
       "<table border=\"1\" class=\"dataframe\">\n",
       "  <thead>\n",
       "    <tr style=\"text-align: right;\">\n",
       "      <th></th>\n",
       "      <th>revenue</th>\n",
       "      <th>num_purchases</th>\n",
       "      <th>purchase</th>\n",
       "      <th>ab_group</th>\n",
       "      <th>av_site visit</th>\n",
       "    </tr>\n",
       "  </thead>\n",
       "  <tbody>\n",
       "    <tr>\n",
       "      <th>0</th>\n",
       "      <td>0.0</td>\n",
       "      <td>0</td>\n",
       "      <td>0</td>\n",
       "      <td>A</td>\n",
       "      <td>9.040174</td>\n",
       "    </tr>\n",
       "    <tr>\n",
       "      <th>1</th>\n",
       "      <td>0.0</td>\n",
       "      <td>0</td>\n",
       "      <td>0</td>\n",
       "      <td>A</td>\n",
       "      <td>4.811628</td>\n",
       "    </tr>\n",
       "    <tr>\n",
       "      <th>2</th>\n",
       "      <td>0.0</td>\n",
       "      <td>0</td>\n",
       "      <td>0</td>\n",
       "      <td>A</td>\n",
       "      <td>7.342623</td>\n",
       "    </tr>\n",
       "    <tr>\n",
       "      <th>3</th>\n",
       "      <td>0.0</td>\n",
       "      <td>0</td>\n",
       "      <td>0</td>\n",
       "      <td>A</td>\n",
       "      <td>7.744581</td>\n",
       "    </tr>\n",
       "    <tr>\n",
       "      <th>4</th>\n",
       "      <td>0.0</td>\n",
       "      <td>0</td>\n",
       "      <td>0</td>\n",
       "      <td>A</td>\n",
       "      <td>10.511814</td>\n",
       "    </tr>\n",
       "  </tbody>\n",
       "</table>\n",
       "</div>"
      ],
      "text/plain": [
       "   revenue  num_purchases  purchase ab_group  av_site visit\n",
       "0      0.0              0         0        A       9.040174\n",
       "1      0.0              0         0        A       4.811628\n",
       "2      0.0              0         0        A       7.342623\n",
       "3      0.0              0         0        A       7.744581\n",
       "4      0.0              0         0        A      10.511814"
      ]
     },
     "execution_count": 2,
     "metadata": {},
     "output_type": "execute_result"
    }
   ],
   "source": [
    "df =  pd.read_csv(\"ab_stats - ab_stats.csv\")\n",
    "df.head()"
   ]
  },
  {
   "cell_type": "code",
   "execution_count": 3,
   "metadata": {},
   "outputs": [
    {
     "name": "stdout",
     "output_type": "stream",
     "text": [
      "<class 'pandas.core.frame.DataFrame'>\n",
      "RangeIndex: 23652 entries, 0 to 23651\n",
      "Data columns (total 5 columns):\n",
      " #   Column         Non-Null Count  Dtype  \n",
      "---  ------         --------------  -----  \n",
      " 0   revenue        23652 non-null  float64\n",
      " 1   num_purchases  23652 non-null  int64  \n",
      " 2   purchase       23652 non-null  int64  \n",
      " 3   ab_group       23652 non-null  object \n",
      " 4   av_site visit  23652 non-null  float64\n",
      "dtypes: float64(2), int64(2), object(1)\n",
      "memory usage: 924.0+ KB\n"
     ]
    }
   ],
   "source": [
    "df.info()"
   ]
  },
  {
   "cell_type": "markdown",
   "metadata": {},
   "source": [
    "В данных нет данных с пропусками"
   ]
  },
  {
   "cell_type": "code",
   "execution_count": 4,
   "metadata": {},
   "outputs": [
    {
     "data": {
      "text/plain": [
       "3733"
      ]
     },
     "execution_count": 4,
     "metadata": {},
     "output_type": "execute_result"
    }
   ],
   "source": [
    "df.duplicated().sum()"
   ]
  },
  {
   "cell_type": "markdown",
   "metadata": {},
   "source": [
    "В данных присутствуют дубликаты в количестве 3733. Удалим дубликаты."
   ]
  },
  {
   "cell_type": "code",
   "execution_count": 5,
   "metadata": {},
   "outputs": [
    {
     "data": {
      "text/plain": [
       "(19919, 5)"
      ]
     },
     "execution_count": 5,
     "metadata": {},
     "output_type": "execute_result"
    }
   ],
   "source": [
    "df.drop_duplicates(inplace=True)\n",
    "df.shape "
   ]
  },
  {
   "cell_type": "markdown",
   "metadata": {},
   "source": [
    "Распределение результатов:"
   ]
  },
  {
   "cell_type": "code",
   "execution_count": 6,
   "metadata": {},
   "outputs": [
    {
     "data": {
      "text/html": [
       "<div>\n",
       "<style scoped>\n",
       "    .dataframe tbody tr th:only-of-type {\n",
       "        vertical-align: middle;\n",
       "    }\n",
       "\n",
       "    .dataframe tbody tr th {\n",
       "        vertical-align: top;\n",
       "    }\n",
       "\n",
       "    .dataframe thead th {\n",
       "        text-align: right;\n",
       "    }\n",
       "</style>\n",
       "<table border=\"1\" class=\"dataframe\">\n",
       "  <thead>\n",
       "    <tr style=\"text-align: right;\">\n",
       "      <th></th>\n",
       "      <th>ab_group</th>\n",
       "      <th>users</th>\n",
       "      <th>revenue</th>\n",
       "    </tr>\n",
       "  </thead>\n",
       "  <tbody>\n",
       "    <tr>\n",
       "      <th>0</th>\n",
       "      <td>A</td>\n",
       "      <td>9989</td>\n",
       "      <td>4786.807972</td>\n",
       "    </tr>\n",
       "    <tr>\n",
       "      <th>1</th>\n",
       "      <td>B</td>\n",
       "      <td>9930</td>\n",
       "      <td>2892.735789</td>\n",
       "    </tr>\n",
       "  </tbody>\n",
       "</table>\n",
       "</div>"
      ],
      "text/plain": [
       "  ab_group  users      revenue\n",
       "0        A   9989  4786.807972\n",
       "1        B   9930  2892.735789"
      ]
     },
     "execution_count": 6,
     "metadata": {},
     "output_type": "execute_result"
    }
   ],
   "source": [
    "df_grouped = df.groupby('ab_group', as_index=False).agg({'num_purchases': 'count', 'revenue': 'sum'}).rename(columns={'num_purchases': 'users'})\n",
    "df_grouped "
   ]
  },
  {
   "cell_type": "code",
   "execution_count": 7,
   "metadata": {},
   "outputs": [
    {
     "data": {
      "image/png": "[encoded data removed]",
      "text/plain": [
       "<Figure size 640x480 with 1 Axes>"
      ]
     },
     "metadata": {},
     "output_type": "display_data"
    }
   ],
   "source": [
    "colors = sns.color_palette('pastel6')\n",
    "plt.pie(df_grouped.users, labels=df_grouped.ab_group, colors=colors, autopct='%.1f%%')\n",
    "plt.show()"
   ]
  },
  {
   "cell_type": "markdown",
   "metadata": {},
   "source": [
    "В каждой группе примерно одинаковое количество пользователей, но доход в каждой из групп значително отличается.\n",
    "\n",
    "Рассмотрим каждую группу"
   ]
  },
  {
   "cell_type": "code",
   "execution_count": 8,
   "metadata": {},
   "outputs": [
    {
     "data": {
      "text/html": [
       "<div>\n",
       "<style scoped>\n",
       "    .dataframe tbody tr th:only-of-type {\n",
       "        vertical-align: middle;\n",
       "    }\n",
       "\n",
       "    .dataframe tbody tr th {\n",
       "        vertical-align: top;\n",
       "    }\n",
       "\n",
       "    .dataframe thead th {\n",
       "        text-align: right;\n",
       "    }\n",
       "</style>\n",
       "<table border=\"1\" class=\"dataframe\">\n",
       "  <thead>\n",
       "    <tr style=\"text-align: right;\">\n",
       "      <th></th>\n",
       "      <th>revenue</th>\n",
       "      <th>num_purchases</th>\n",
       "      <th>purchase</th>\n",
       "      <th>ab_group</th>\n",
       "      <th>av_site visit</th>\n",
       "    </tr>\n",
       "  </thead>\n",
       "  <tbody>\n",
       "    <tr>\n",
       "      <th>11936</th>\n",
       "      <td>0.259450</td>\n",
       "      <td>1</td>\n",
       "      <td>1</td>\n",
       "      <td>B</td>\n",
       "      <td>8.932191</td>\n",
       "    </tr>\n",
       "    <tr>\n",
       "      <th>11948</th>\n",
       "      <td>1.002704</td>\n",
       "      <td>1</td>\n",
       "      <td>1</td>\n",
       "      <td>B</td>\n",
       "      <td>3.116331</td>\n",
       "    </tr>\n",
       "    <tr>\n",
       "      <th>11999</th>\n",
       "      <td>69.940000</td>\n",
       "      <td>6</td>\n",
       "      <td>1</td>\n",
       "      <td>B</td>\n",
       "      <td>13.614101</td>\n",
       "    </tr>\n",
       "    <tr>\n",
       "      <th>12073</th>\n",
       "      <td>63.323518</td>\n",
       "      <td>4</td>\n",
       "      <td>1</td>\n",
       "      <td>B</td>\n",
       "      <td>1.205155</td>\n",
       "    </tr>\n",
       "    <tr>\n",
       "      <th>12086</th>\n",
       "      <td>15.922366</td>\n",
       "      <td>2</td>\n",
       "      <td>1</td>\n",
       "      <td>B</td>\n",
       "      <td>12.034099</td>\n",
       "    </tr>\n",
       "  </tbody>\n",
       "</table>\n",
       "</div>"
      ],
      "text/plain": [
       "         revenue  num_purchases  purchase ab_group  av_site visit\n",
       "11936   0.259450              1         1        B       8.932191\n",
       "11948   1.002704              1         1        B       3.116331\n",
       "11999  69.940000              6         1        B      13.614101\n",
       "12073  63.323518              4         1        B       1.205155\n",
       "12086  15.922366              2         1        B      12.034099"
      ]
     },
     "execution_count": 8,
     "metadata": {},
     "output_type": "execute_result"
    }
   ],
   "source": [
    "df_A = df[(df.ab_group == 'A') & (df.revenue > 0)]\n",
    "df_B = df[(df.ab_group == 'B') & (df.revenue > 0)]\n",
    "df_B.head()"
   ]
  },
  {
   "cell_type": "code",
   "execution_count": 9,
   "metadata": {},
   "outputs": [
    {
     "data": {
      "image/png": "[encoded data removed]",
      "text/plain": [
       "<Figure size 640x480 with 1 Axes>"
      ]
     },
     "metadata": {},
     "output_type": "display_data"
    }
   ],
   "source": [
    "sns.boxplot(data=df.query('revenue > 0'), x='revenue', y='ab_group')\n",
    "plt.show()"
   ]
  },
  {
   "cell_type": "code",
   "execution_count": 10,
   "metadata": {},
   "outputs": [
    {
     "data": {
      "text/html": [
       "<div>\n",
       "<style scoped>\n",
       "    .dataframe tbody tr th:only-of-type {\n",
       "        vertical-align: middle;\n",
       "    }\n",
       "\n",
       "    .dataframe tbody tr th {\n",
       "        vertical-align: top;\n",
       "    }\n",
       "\n",
       "    .dataframe thead th {\n",
       "        text-align: right;\n",
       "    }\n",
       "</style>\n",
       "<table border=\"1\" class=\"dataframe\">\n",
       "  <thead>\n",
       "    <tr style=\"text-align: right;\">\n",
       "      <th></th>\n",
       "      <th>revenue</th>\n",
       "      <th>num_purchases</th>\n",
       "      <th>purchase</th>\n",
       "      <th>av_site visit</th>\n",
       "    </tr>\n",
       "  </thead>\n",
       "  <tbody>\n",
       "    <tr>\n",
       "      <th>count</th>\n",
       "      <td>256.000000</td>\n",
       "      <td>256.000000</td>\n",
       "      <td>256.0</td>\n",
       "      <td>256.000000</td>\n",
       "    </tr>\n",
       "    <tr>\n",
       "      <th>mean</th>\n",
       "      <td>18.698469</td>\n",
       "      <td>2.343750</td>\n",
       "      <td>1.0</td>\n",
       "      <td>6.753074</td>\n",
       "    </tr>\n",
       "    <tr>\n",
       "      <th>std</th>\n",
       "      <td>87.527589</td>\n",
       "      <td>9.723582</td>\n",
       "      <td>0.0</td>\n",
       "      <td>2.043753</td>\n",
       "    </tr>\n",
       "    <tr>\n",
       "      <th>min</th>\n",
       "      <td>0.259689</td>\n",
       "      <td>1.000000</td>\n",
       "      <td>1.0</td>\n",
       "      <td>0.996753</td>\n",
       "    </tr>\n",
       "    <tr>\n",
       "      <th>25%</th>\n",
       "      <td>2.318301</td>\n",
       "      <td>1.000000</td>\n",
       "      <td>1.0</td>\n",
       "      <td>5.281247</td>\n",
       "    </tr>\n",
       "    <tr>\n",
       "      <th>50%</th>\n",
       "      <td>4.283160</td>\n",
       "      <td>1.000000</td>\n",
       "      <td>1.0</td>\n",
       "      <td>6.871241</td>\n",
       "    </tr>\n",
       "    <tr>\n",
       "      <th>75%</th>\n",
       "      <td>11.923141</td>\n",
       "      <td>2.000000</td>\n",
       "      <td>1.0</td>\n",
       "      <td>8.257506</td>\n",
       "    </tr>\n",
       "    <tr>\n",
       "      <th>max</th>\n",
       "      <td>1303.609284</td>\n",
       "      <td>152.000000</td>\n",
       "      <td>1.0</td>\n",
       "      <td>12.504262</td>\n",
       "    </tr>\n",
       "  </tbody>\n",
       "</table>\n",
       "</div>"
      ],
      "text/plain": [
       "           revenue  num_purchases  purchase  av_site visit\n",
       "count   256.000000     256.000000     256.0     256.000000\n",
       "mean     18.698469       2.343750       1.0       6.753074\n",
       "std      87.527589       9.723582       0.0       2.043753\n",
       "min       0.259689       1.000000       1.0       0.996753\n",
       "25%       2.318301       1.000000       1.0       5.281247\n",
       "50%       4.283160       1.000000       1.0       6.871241\n",
       "75%      11.923141       2.000000       1.0       8.257506\n",
       "max    1303.609284     152.000000       1.0      12.504262"
      ]
     },
     "execution_count": 10,
     "metadata": {},
     "output_type": "execute_result"
    }
   ],
   "source": [
    "df_A.describe()"
   ]
  },
  {
   "cell_type": "code",
   "execution_count": 11,
   "metadata": {},
   "outputs": [
    {
     "data": {
      "text/html": [
       "<div>\n",
       "<style scoped>\n",
       "    .dataframe tbody tr th:only-of-type {\n",
       "        vertical-align: middle;\n",
       "    }\n",
       "\n",
       "    .dataframe tbody tr th {\n",
       "        vertical-align: top;\n",
       "    }\n",
       "\n",
       "    .dataframe thead th {\n",
       "        text-align: right;\n",
       "    }\n",
       "</style>\n",
       "<table border=\"1\" class=\"dataframe\">\n",
       "  <thead>\n",
       "    <tr style=\"text-align: right;\">\n",
       "      <th></th>\n",
       "      <th>revenue</th>\n",
       "      <th>num_purchases</th>\n",
       "      <th>purchase</th>\n",
       "      <th>av_site visit</th>\n",
       "    </tr>\n",
       "  </thead>\n",
       "  <tbody>\n",
       "    <tr>\n",
       "      <th>count</th>\n",
       "      <td>234.000000</td>\n",
       "      <td>234.000000</td>\n",
       "      <td>234.0</td>\n",
       "      <td>234.000000</td>\n",
       "    </tr>\n",
       "    <tr>\n",
       "      <th>mean</th>\n",
       "      <td>12.362119</td>\n",
       "      <td>1.841880</td>\n",
       "      <td>1.0</td>\n",
       "      <td>6.844776</td>\n",
       "    </tr>\n",
       "    <tr>\n",
       "      <th>std</th>\n",
       "      <td>19.007065</td>\n",
       "      <td>2.354021</td>\n",
       "      <td>0.0</td>\n",
       "      <td>3.970112</td>\n",
       "    </tr>\n",
       "    <tr>\n",
       "      <th>min</th>\n",
       "      <td>0.259373</td>\n",
       "      <td>1.000000</td>\n",
       "      <td>1.0</td>\n",
       "      <td>-5.646523</td>\n",
       "    </tr>\n",
       "    <tr>\n",
       "      <th>25%</th>\n",
       "      <td>2.319883</td>\n",
       "      <td>1.000000</td>\n",
       "      <td>1.0</td>\n",
       "      <td>4.009016</td>\n",
       "    </tr>\n",
       "    <tr>\n",
       "      <th>50%</th>\n",
       "      <td>3.980000</td>\n",
       "      <td>1.000000</td>\n",
       "      <td>1.0</td>\n",
       "      <td>7.143956</td>\n",
       "    </tr>\n",
       "    <tr>\n",
       "      <th>75%</th>\n",
       "      <td>12.274829</td>\n",
       "      <td>2.000000</td>\n",
       "      <td>1.0</td>\n",
       "      <td>9.776519</td>\n",
       "    </tr>\n",
       "    <tr>\n",
       "      <th>max</th>\n",
       "      <td>113.830000</td>\n",
       "      <td>25.000000</td>\n",
       "      <td>1.0</td>\n",
       "      <td>16.955948</td>\n",
       "    </tr>\n",
       "  </tbody>\n",
       "</table>\n",
       "</div>"
      ],
      "text/plain": [
       "          revenue  num_purchases  purchase  av_site visit\n",
       "count  234.000000     234.000000     234.0     234.000000\n",
       "mean    12.362119       1.841880       1.0       6.844776\n",
       "std     19.007065       2.354021       0.0       3.970112\n",
       "min      0.259373       1.000000       1.0      -5.646523\n",
       "25%      2.319883       1.000000       1.0       4.009016\n",
       "50%      3.980000       1.000000       1.0       7.143956\n",
       "75%     12.274829       2.000000       1.0       9.776519\n",
       "max    113.830000      25.000000       1.0      16.955948"
      ]
     },
     "execution_count": 11,
     "metadata": {},
     "output_type": "execute_result"
    }
   ],
   "source": [
    "df_B.describe()\n"
   ]
  },
  {
   "cell_type": "markdown",
   "metadata": {},
   "source": [
    "Исходя из графиков и описания рядов данных можно прийти к выводу, что в представленных данных присутствуют выбросы в виде разовых покупок на крупную сумму. Поскольку данна ситуация не типична, то необходимо исключитть выбросы"
   ]
  },
  {
   "cell_type": "code",
   "execution_count": 13,
   "metadata": {},
   "outputs": [
    {
     "data": {
      "text/html": [
       "<div>\n",
       "<style scoped>\n",
       "    .dataframe tbody tr th:only-of-type {\n",
       "        vertical-align: middle;\n",
       "    }\n",
       "\n",
       "    .dataframe tbody tr th {\n",
       "        vertical-align: top;\n",
       "    }\n",
       "\n",
       "    .dataframe thead th {\n",
       "        text-align: right;\n",
       "    }\n",
       "</style>\n",
       "<table border=\"1\" class=\"dataframe\">\n",
       "  <thead>\n",
       "    <tr style=\"text-align: right;\">\n",
       "      <th></th>\n",
       "      <th>revenue</th>\n",
       "      <th>num_purchases</th>\n",
       "      <th>purchase</th>\n",
       "      <th>av_site visit</th>\n",
       "    </tr>\n",
       "  </thead>\n",
       "  <tbody>\n",
       "    <tr>\n",
       "      <th>count</th>\n",
       "      <td>249.000000</td>\n",
       "      <td>249.000000</td>\n",
       "      <td>249.0</td>\n",
       "      <td>249.000000</td>\n",
       "    </tr>\n",
       "    <tr>\n",
       "      <th>mean</th>\n",
       "      <td>9.486302</td>\n",
       "      <td>1.542169</td>\n",
       "      <td>1.0</td>\n",
       "      <td>6.754879</td>\n",
       "    </tr>\n",
       "    <tr>\n",
       "      <th>std</th>\n",
       "      <td>13.422091</td>\n",
       "      <td>1.139127</td>\n",
       "      <td>0.0</td>\n",
       "      <td>2.052495</td>\n",
       "    </tr>\n",
       "    <tr>\n",
       "      <th>min</th>\n",
       "      <td>0.259689</td>\n",
       "      <td>1.000000</td>\n",
       "      <td>1.0</td>\n",
       "      <td>0.996753</td>\n",
       "    </tr>\n",
       "    <tr>\n",
       "      <th>25%</th>\n",
       "      <td>2.303378</td>\n",
       "      <td>1.000000</td>\n",
       "      <td>1.0</td>\n",
       "      <td>5.275766</td>\n",
       "    </tr>\n",
       "    <tr>\n",
       "      <th>50%</th>\n",
       "      <td>4.075668</td>\n",
       "      <td>1.000000</td>\n",
       "      <td>1.0</td>\n",
       "      <td>6.880515</td>\n",
       "    </tr>\n",
       "    <tr>\n",
       "      <th>75%</th>\n",
       "      <td>10.292411</td>\n",
       "      <td>2.000000</td>\n",
       "      <td>1.0</td>\n",
       "      <td>8.309245</td>\n",
       "    </tr>\n",
       "    <tr>\n",
       "      <th>max</th>\n",
       "      <td>79.970000</td>\n",
       "      <td>8.000000</td>\n",
       "      <td>1.0</td>\n",
       "      <td>12.504262</td>\n",
       "    </tr>\n",
       "  </tbody>\n",
       "</table>\n",
       "</div>"
      ],
      "text/plain": [
       "          revenue  num_purchases  purchase  av_site visit\n",
       "count  249.000000     249.000000     249.0     249.000000\n",
       "mean     9.486302       1.542169       1.0       6.754879\n",
       "std     13.422091       1.139127       0.0       2.052495\n",
       "min      0.259689       1.000000       1.0       0.996753\n",
       "25%      2.303378       1.000000       1.0       5.275766\n",
       "50%      4.075668       1.000000       1.0       6.880515\n",
       "75%     10.292411       2.000000       1.0       8.309245\n",
       "max     79.970000       8.000000       1.0      12.504262"
      ]
     },
     "execution_count": 13,
     "metadata": {},
     "output_type": "execute_result"
    }
   ],
   "source": [
    "df_A_clean = df_A[df_A.revenue < df_A.revenue.quantile(0.975)]\n",
    "df_A_clean.describe()"
   ]
  },
  {
   "cell_type": "code",
   "execution_count": 18,
   "metadata": {},
   "outputs": [
    {
     "data": {
      "text/html": [
       "<div>\n",
       "<style scoped>\n",
       "    .dataframe tbody tr th:only-of-type {\n",
       "        vertical-align: middle;\n",
       "    }\n",
       "\n",
       "    .dataframe tbody tr th {\n",
       "        vertical-align: top;\n",
       "    }\n",
       "\n",
       "    .dataframe thead th {\n",
       "        text-align: right;\n",
       "    }\n",
       "</style>\n",
       "<table border=\"1\" class=\"dataframe\">\n",
       "  <thead>\n",
       "    <tr style=\"text-align: right;\">\n",
       "      <th></th>\n",
       "      <th>revenue</th>\n",
       "      <th>num_purchases</th>\n",
       "      <th>purchase</th>\n",
       "      <th>ab_group</th>\n",
       "      <th>av_site visit</th>\n",
       "    </tr>\n",
       "  </thead>\n",
       "  <tbody>\n",
       "    <tr>\n",
       "      <th>45</th>\n",
       "      <td>1.885595</td>\n",
       "      <td>1</td>\n",
       "      <td>1</td>\n",
       "      <td>A</td>\n",
       "      <td>7.654627</td>\n",
       "    </tr>\n",
       "    <tr>\n",
       "      <th>54</th>\n",
       "      <td>1.002159</td>\n",
       "      <td>1</td>\n",
       "      <td>1</td>\n",
       "      <td>A</td>\n",
       "      <td>6.392489</td>\n",
       "    </tr>\n",
       "    <tr>\n",
       "      <th>82</th>\n",
       "      <td>2.990000</td>\n",
       "      <td>1</td>\n",
       "      <td>1</td>\n",
       "      <td>A</td>\n",
       "      <td>8.596604</td>\n",
       "    </tr>\n",
       "    <tr>\n",
       "      <th>104</th>\n",
       "      <td>49.990000</td>\n",
       "      <td>1</td>\n",
       "      <td>1</td>\n",
       "      <td>A</td>\n",
       "      <td>8.885633</td>\n",
       "    </tr>\n",
       "    <tr>\n",
       "      <th>110</th>\n",
       "      <td>22.093757</td>\n",
       "      <td>4</td>\n",
       "      <td>1</td>\n",
       "      <td>A</td>\n",
       "      <td>8.708759</td>\n",
       "    </tr>\n",
       "  </tbody>\n",
       "</table>\n",
       "</div>"
      ],
      "text/plain": [
       "       revenue  num_purchases  purchase ab_group  av_site visit\n",
       "45    1.885595              1         1        A       7.654627\n",
       "54    1.002159              1         1        A       6.392489\n",
       "82    2.990000              1         1        A       8.596604\n",
       "104  49.990000              1         1        A       8.885633\n",
       "110  22.093757              4         1        A       8.708759"
      ]
     },
     "execution_count": 18,
     "metadata": {},
     "output_type": "execute_result"
    }
   ],
   "source": [
    "df_a_clean.head()"
   ]
  },
  {
   "cell_type": "code",
   "execution_count": 24,
   "metadata": {},
   "outputs": [
    {
     "data": {
      "image/png": "[encoded data removed]",
      "text/plain": [
       "<Figure size 1500x400 with 2 Axes>"
      ]
     },
     "metadata": {},
     "output_type": "display_data"
    }
   ],
   "source": [
    "fig, (ax_boxplot, ay_boxplot) = plt.subplots(1, 2, figsize=(15, 4))\n",
    "ax_boxplot.set_title('Группа А')\n",
    "ay_boxplot.set_title('Группа B')\n",
    "sns.boxplot(data=df_A_clean, x='revenue', y='ab_group', ax=ax_boxplot, color='c')\n",
    "sns.boxplot(data=df_B, x='revenue', y='ab_group', ax=ay_boxplot, color='g')\n",
    "plt.show()"
   ]
  },
  {
   "cell_type": "code",
   "execution_count": 27,
   "metadata": {},
   "outputs": [
    {
     "data": {
      "image/png": "[encoded data removed]",
      "text/plain": [
       "<Figure size 600x300 with 2 Axes>"
      ]
     },
     "metadata": {},
     "output_type": "display_data"
    }
   ],
   "source": [
    "d = {'color': ['g', 'r']}\n",
    "combined_df = pd.concat([df_A_clean, df_B])\n",
    "g = sns.FacetGrid(data=combined_df, col ='ab_group', col_wrap=2, hue_kws=d, hue='ab_group')\n",
    "g.map(sns.histplot, 'revenue', kde=True)\n",
    "g.set_titles(col_template=\"группа {col_name}\");"
   ]
  },
  {
   "cell_type": "markdown",
   "metadata": {},
   "source": [
    "Подсчитаем средние значения в группах"
   ]
  },
  {
   "cell_type": "code",
   "execution_count": 30,
   "metadata": {},
   "outputs": [
    {
     "name": "stdout",
     "output_type": "stream",
     "text": [
      "ARPPU (среднее значение) \n",
      "Группа А: 9.4863\n",
      "Группа В: 12.3621\n"
     ]
    }
   ],
   "source": [
    "print('ARPPU (среднее значение) ')\n",
    "print(\"Группа А:\", f\"{df_A_clean['revenue'].mean():.4f}\\n\" \n",
    "      \"Группа В:\", f\"{df_B['revenue'].mean():.4f}\")"
   ]
  },
  {
   "cell_type": "markdown",
   "metadata": {},
   "source": [
    "Медианы по группам"
   ]
  },
  {
   "cell_type": "code",
   "execution_count": 31,
   "metadata": {},
   "outputs": [
    {
     "name": "stdout",
     "output_type": "stream",
     "text": [
      "Группа А: 4.0757\n",
      "Группа В: 3.9800\n"
     ]
    }
   ],
   "source": [
    "print(\"Группа А:\", f\"{df_A_clean['revenue'].median():.4f}\\n\" \n",
    "      \"Группа В:\", f\"{df_B['revenue'].median():.4f}\")"
   ]
  },
  {
   "cell_type": "markdown",
   "metadata": {},
   "source": [
    "Получены близкие по значениям группы.\n",
    "\n",
    "Согласно полученных графиков распределение в группах не нормальное.\n",
    "\n",
    "Определим имеются ли статистически значимые различия в группах."
   ]
  },
  {
   "cell_type": "markdown",
   "metadata": {},
   "source": [
    "Поскольку размер выборки небольшой применим критерий Манна-Уитни"
   ]
  },
  {
   "cell_type": "code",
   "execution_count": 34,
   "metadata": {},
   "outputs": [
    {
     "data": {
      "text/plain": [
       "MannwhitneyuResult(statistic=28097.5, pvalue=0.49940952593129473)"
      ]
     },
     "execution_count": 34,
     "metadata": {},
     "output_type": "execute_result"
    }
   ],
   "source": [
    "mannwhitneyu(df_A_clean.revenue.values, \n",
    "             df_B.revenue.values)"
   ]
  },
  {
   "cell_type": "markdown",
   "metadata": {},
   "source": []
  },
  {
   "cell_type": "markdown",
   "metadata": {},
   "source": [
    "p-value > 0.05 => нет статистически значимых различий, недостаточно оснований для отклонения нулевой гипотезы. "
   ]
  },
  {
   "cell_type": "markdown",
   "metadata": {},
   "source": [
    "Рассмотрим ARPPU для всех пользователей"
   ]
  },
  {
   "cell_type": "code",
   "execution_count": 40,
   "metadata": {},
   "outputs": [
    {
     "data": {
      "text/plain": [
       "<Axes: xlabel='num_purchases', ylabel='ab_group'>"
      ]
     },
     "execution_count": 40,
     "metadata": {},
     "output_type": "execute_result"
    },
    {
     "data": {
      "image/png": "[encoded data removed]",
      "text/plain": [
       "<Figure size 640x480 with 1 Axes>"
      ]
     },
     "metadata": {},
     "output_type": "display_data"
    }
   ],
   "source": [
    "\n",
    "sns.boxplot(df, x='num_purchases', y='ab_group')"
   ]
  },
  {
   "cell_type": "markdown",
   "metadata": {},
   "source": [
    "Уберем выброс в группе А"
   ]
  },
  {
   "cell_type": "code",
   "execution_count": 43,
   "metadata": {},
   "outputs": [
    {
     "data": {
      "image/png": "[encoded data removed]",
      "text/plain": [
       "<Figure size 600x300 with 2 Axes>"
      ]
     },
     "metadata": {},
     "output_type": "display_data"
    }
   ],
   "source": [
    "df_clear = df[df.num_purchases <=100]\n",
    "\n",
    "d = {'color': ['g', 'r']}\n",
    "g = sns.FacetGrid(data=df_clear, col ='ab_group', col_wrap=2, hue_kws=d, hue='ab_group')\n",
    "g.map(sns.histplot, 'revenue')\n",
    "g.set_titles(col_template=\"группа {col_name}\");"
   ]
  },
  {
   "cell_type": "code",
   "execution_count": 45,
   "metadata": {},
   "outputs": [
    {
     "data": {
      "text/plain": [
       "((9988, 5), (9930, 5))"
      ]
     },
     "execution_count": 45,
     "metadata": {},
     "output_type": "execute_result"
    }
   ],
   "source": [
    "df_clear.query('ab_group == \"A\"').shape, df_clear.query('ab_group == \"B\"').shape"
   ]
  },
  {
   "cell_type": "markdown",
   "metadata": {},
   "source": [
    "Полученные группы примерно одинаковые. Распределение дохода в группах не нормальное. Поскольку наблюдений много применим тесты Манна-Уитни и критерий Стьюдента"
   ]
  },
  {
   "cell_type": "code",
   "execution_count": 46,
   "metadata": {},
   "outputs": [
    {
     "data": {
      "text/plain": [
       "MannwhitneyuResult(statistic=49687559.5, pvalue=0.37180663457349694)"
      ]
     },
     "execution_count": 46,
     "metadata": {},
     "output_type": "execute_result"
    }
   ],
   "source": [
    "mannwhitneyu(df_clear.query('ab_group == \"A\"').revenue.values, \n",
    "             df_clear.query('ab_group == \"B\"').revenue.values)"
   ]
  },
  {
   "cell_type": "code",
   "execution_count": 51,
   "metadata": {},
   "outputs": [
    {
     "data": {
      "text/plain": [
       "Ttest_indResult(statistic=0.8429300531635012, pvalue=0.39927998641958473)"
      ]
     },
     "execution_count": 51,
     "metadata": {},
     "output_type": "execute_result"
    }
   ],
   "source": [
    "ttest_ind(df_clear.query('ab_group == \"A\"').revenue.values, \n",
    "             df_clear.query('ab_group == \"B\"').revenue.values, equal_var = False)"
   ]
  },
  {
   "cell_type": "markdown",
   "metadata": {},
   "source": [
    "В обоих случаях p-value > 0.05 - нет статистически значимых различий\n",
    "\n",
    "Проверим мощность теста"
   ]
  },
  {
   "cell_type": "code",
   "execution_count": 54,
   "metadata": {},
   "outputs": [
    {
     "name": "stdout",
     "output_type": "stream",
     "text": [
      "Мощность теста: 13.47%\n"
     ]
    }
   ],
   "source": [
    "alpha = 0.05\n",
    "\n",
    "C_mean = df_clear.query('ab_group == \"A\"')['revenue'].values.mean()\n",
    "T_mean = df_clear.query('ab_group == \"B\"')['revenue'].values.mean()\n",
    "\n",
    "C_std = df_clear.query('ab_group == \"A\"')['revenue'].values.std()\n",
    "T_std = df_clear.query('ab_group == \"B\"')['revenue'].values.std()\n",
    "\n",
    "S = np.sqrt((T_std**2 + C_std **2)/ 2)\n",
    "effect_size =float((T_mean-C_mean)/ S)\n",
    "\n",
    "n = df_clear.query('ab_group == \"A\"').shape[0]\n",
    "\n",
    "analysis = TTestIndPower()\n",
    "result = analysis.solve_power(effect_size=effect_size, power=None, nobs1=n, ratio=1.0, alpha=alpha)\n",
    "print(f'Мощность теста: {result*100:.2f}%')"
   ]
  },
  {
   "cell_type": "markdown",
   "metadata": {},
   "source": [
    "Мощность теста недостаточна для выявления статистически значимых различий.\n",
    "\n",
    "Рассчитаем размер необходимой выборки:"
   ]
  },
  {
   "cell_type": "code",
   "execution_count": 57,
   "metadata": {},
   "outputs": [
    {
     "data": {
      "text/plain": [
       "(110155, 11)"
      ]
     },
     "execution_count": 57,
     "metadata": {},
     "output_type": "execute_result"
    }
   ],
   "source": [
    "power = 0.8\n",
    "N = analysis.solve_power(effect_size=effect_size, power=power, nobs1=None, ratio=1.0, alpha=alpha)\n",
    "round(N), round(N/n)"
   ]
  },
  {
   "cell_type": "markdown",
   "metadata": {},
   "source": [
    "В представленом наборе данных статистически значимых различий не выявлено. Тем не менее мощность проведенного теста недостаточна для выявления различий междугруппами. Оснований для отклонения нулевой гипотезы не достаточно. Необходимо увеличить размер выборки \n",
    "\n",
    "---"
   ]
  },
  {
   "cell_type": "markdown",
   "metadata": {},
   "source": [
    "### Кейс №3\n",
    "\n",
    "Мы хотим провести А/Б-тест для трех источников трафика. Нынешняя конверсия равна 5%,\n",
    "мы ожидаем прирост в 0,2%.\n",
    "Уровень доверия 97% и уровень мощности 87%.\n",
    "Всего на наш продукт заходит 40 000 пользователей в месяц.\n",
    "\n",
    "    3.1. За сколько дней мы сможем протестировать гипотезу? И что вы можете посоветовать по\n",
    "    результатам подсчета?\n",
    "\n",
    "    3.2. Допустим в задаче нет проблемы с количеством посетителей на сайт, тогда подведите    \n",
    "    результаты тестирования, если у нас следующие результаты по количеству конверсии:\n",
    "1) 25 000\n",
    "2) 30 000\n",
    "3) 32 000"
   ]
  },
  {
   "cell_type": "markdown",
   "metadata": {},
   "source": [
    "### 3.1. "
   ]
  },
  {
   "cell_type": "markdown",
   "metadata": {},
   "source": [
    "Для решения теста воспользуемся [калькулятором](https://mindbox.ru/tools/ab-test-calculator/)"
   ]
  },
  {
   "cell_type": "markdown",
   "metadata": {},
   "source": [
    "![Результат расчета калькулятора](3.1.png)"
   ]
  },
  {
   "cell_type": "code",
   "execution_count": 59,
   "metadata": {},
   "outputs": [
    {
     "name": "stdout",
     "output_type": "stream",
     "text": [
      "Необходимый объем выюорки для 3 источников трафика: 1548528 человека\n"
     ]
    }
   ],
   "source": [
    "print(\"Необходимый объем выюорки для 3 источников трафика:\", 516176*3, \"человека\") "
   ]
  },
  {
   "cell_type": "code",
   "execution_count": 60,
   "metadata": {},
   "outputs": [
    {
     "name": "stdout",
     "output_type": "stream",
     "text": [
      "Необходимое количество месяцев для проведения эксперимента: 39\n"
     ]
    }
   ],
   "source": [
    "print(\"Необходимое количество месяцев для проведения эксперимента:\", round(1548528/40000))"
   ]
  },
  {
   "cell_type": "markdown",
   "metadata": {},
   "source": [
    "Вывод: количество посетителей нашего сайта недостаточно для проведения эксперимента. Необходимо увеличить ожидаемый прирост до 1% для проведения тестирования в текущих условиях"
   ]
  },
  {
   "cell_type": "markdown",
   "metadata": {},
   "source": [
    "![Расчет при измененном приросте](3.1summary.png)"
   ]
  },
  {
   "cell_type": "code",
   "execution_count": 63,
   "metadata": {},
   "outputs": [
    {
     "name": "stdout",
     "output_type": "stream",
     "text": [
      "Количество месяцев при измененном ожидаемом приросте конверсии 1%: 1.5 месяца\n"
     ]
    }
   ],
   "source": [
    "print(\"Количество месяцев при измененном ожидаемом приросте конверсии 1%:\", round(20647*3/40000, 1), \"месяца\")"
   ]
  },
  {
   "cell_type": "markdown",
   "metadata": {},
   "source": [
    "### 3.2"
   ]
  },
  {
   "cell_type": "markdown",
   "metadata": {},
   "source": [
    "![Результатытестирования](3.2.png)"
   ]
  },
  {
   "cell_type": "markdown",
   "metadata": {},
   "source": [
    "Вариант С показал наилучшие результаты в приросте конверсии, но для обеспечения прироста достаточно и варианта В"
   ]
  },
  {
   "cell_type": "markdown",
   "metadata": {},
   "source": [
    "### Кейс 4\n",
    "\n",
    "Вы решили сравнивать метрику CPA в двух группах. Размер выборки - 2350 элементов в\n",
    "каждой группе.\n",
    "Для проверки нормальности распределения на выборке в 2350 наблюдений применили ,\n",
    "критерий Шапиро-Уилка и получили p-value, равный 0.00002, alpha = 5%.\n",
    "Какой бы вывод мы могли сделать в данном случае?\n",
    "В этом случае какой статистический критерий для проверки первоначальной гипотезы тут лучше\n",
    "всего подойдёт и почему ?"
   ]
  },
  {
   "cell_type": "markdown",
   "metadata": {},
   "source": [
    "Для выборок объемом более 50 тест Шапиро-Уилка может давать ложно положительные результаты. Для получения более надежных результатов в нашей выборке необходимо сипользовать критерий Колмогорова-Смирнова. можно построить QQplot и гистограмму для анализа распределения на выборке. Если распределение нормальное, то для оценки статистичской значимости различий в группах можно применить критерий Стьюдента, иначе Манна-Уитни или применить метод бутстрап. \n",
    "\n",
    "---"
   ]
  },
  {
   "cell_type": "markdown",
   "metadata": {},
   "source": [
    "### Кейс 5\n",
    "Мы провели АБ-тест на увеличение average timespent per user. По итогам тестирования мы\n",
    "получили следующие данные.\n",
    "\n",
    "Является ли результат статистически значимым с уровнем\n",
    "доверия 80%? Какую версию мы выкатим на продакшн?\n",
    "\n",
    "A) Средняя - 360, отклонение - 40, количество - 9802\n",
    "B) Средняя - 352, отклонение - 58, количество - 9789"
   ]
  },
  {
   "cell_type": "markdown",
   "metadata": {},
   "source": [
    "Для решения кейса воспользуемся [калькулятором](https://www.evanmiller.org/ab-testing/t-test.html)"
   ]
  },
  {
   "cell_type": "markdown",
   "metadata": {},
   "source": [
    "![Результаты эксперимента](5.png)"
   ]
  },
  {
   "cell_type": "markdown",
   "metadata": {},
   "source": [
    "По результатам эксперемента получено значение p-value < 0.001 \n",
    "Имеются статистически значимые различия в экспериментах.\n",
    "В продакшен необходимо выкатывать версию А"
   ]
  },
  {
   "cell_type": "markdown",
   "metadata": {},
   "source": [
    "### Кейс 6\n",
    "Создайте техническую архитектуру проекта по аб тестированию продукта он-лайн кинотеатра\n",
    "с учетом кросс-девайс аналитики по следующей гипотезе:\n",
    "Если договориться с банком о 99% кэшбэке на подписку первого месяца, то это повысит\n",
    "конверсию в подписку на 30%, благодаря упрощенному принятию решения со стороны\n",
    "пользователя.\n",
    "На схеме необходимо отобразить:\n",
    "1) Управленческий процесс по договоренностям с внешними партнерами\n",
    "2) Архитектуру данных с указанием систем, из которых будем скачивать данные\n",
    "3) Внутрикомандное взаимодействие"
   ]
  },
  {
   "cell_type": "markdown",
   "metadata": {},
   "source": [
    "Управленческий процесс по договоренностям с внешними партнерами\n",
    "\n",
    "Задача: Добиться договоренности с банком о 99% кэшбэке на подписку первого месяца.\n",
    "\n",
    "Ответственные: Руководитель проекта, менеджер по продажам, менеджер по работе с партнерами.\n",
    "\n",
    "Этапы:\n",
    "\n",
    "1. Подготовка: Сбор информации о банке, его продуктах и услугах, а также о его политике по кэшбэку.\n",
    "1. Анализ: Оценка потенциала договоренности с банком, расчет потенциального эффекта от нее.\n",
    "1. Переговоры: Проведение переговоров с банком, обсуждение условий договоренности.\n",
    "1. Подписание договора: Подписание договора о сотрудничестве с банком.\n",
    "1. Архитектура данных\n",
    "\n",
    "Источники данных:\n",
    "\n",
    "* Система аналитики онлайн-кинотеатра (данные о конверсии в подписку, о поведении пользователей, о их устройствах).\n",
    "* Система аналитики банка (данные о транзакциях пользователей, о их финансовом положении).\n",
    "Целевые данные:\n",
    "\n",
    "* Данные о конверсии в подписку в двух группах пользователей: в группе с 99% кэшбэком и в группе без кэшбэка.\n",
    "* Данные о поведении пользователей в двух группах: в группе с 99% кэшбэком и в группе без кэшбэка.\n",
    "* Данные о устройствах пользователей в двух группах: в группе с 99% кэшбэком и в группе без кэшбэка.\n",
    "Системы хранения данных:\n",
    "\n",
    "* База данных аналитики онлайн-кинотеатра.\n",
    "* База данных аналитики банка.\n",
    "* Внутрикомандное взаимодействие\n",
    "\n",
    "Участники:\n",
    "\n",
    "* Руководитель проекта\n",
    "* Аналитик данных\n",
    "* Тестировщик\n",
    "* Маркетолог\n",
    "\n",
    "Обязанности:\n",
    "\n",
    "* Руководитель проекта: отвечает за общее руководство проектом, за взаимодействие с внешними партнерами.\n",
    "* Аналитик данных: отвечает за сбор и анализ данных, за проведение статистического анализа.\n",
    "* Тестировщик: отвечает за разработку и проведение тестов.\n",
    "* Маркетолог: отвечает за разработку и реализацию маркетинговых мероприятий.\n",
    "\n",
    "Взаимодействие:\n",
    "\n",
    "* Руководитель проекта взаимодействует со всеми участниками проекта, обеспечивает координацию их работы.\n",
    "* Аналитик данных взаимодействует с тестировщиком для получения данных о результатах тестов.\n",
    "* Маркетолог взаимодействует с руководителем проекта для получения информации о результатах теста и для разработки маркетинговых мероприятий.\n"
   ]
  }
 ],
 "metadata": {
  "kernelspec": {
   "display_name": "base",
   "language": "python",
   "name": "python3"
  },
  "language_info": {
   "codemirror_mode": {
    "name": "ipython",
    "version": 3
   },
   "file_extension": ".py",
   "mimetype": "text/x-python",
   "name": "python",
   "nbconvert_exporter": "python",
   "pygments_lexer": "ipython3",
   "version": "3.10.9"
  }
 },
 "nbformat": 4,
 "nbformat_minor": 2
}
